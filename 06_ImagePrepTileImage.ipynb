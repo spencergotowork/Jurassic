{
 "cells": [
  {
   "cell_type": "markdown",
   "id": "46db88fb-e289-40ab-9dd9-a2bd8df54c60",
   "metadata": {
    "tags": []
   },
   "source": [
    "# Image Preparation: Tile Images\n",
    "\n",
    "Slice into multiple 224x224\n",
    "\n",
    "![assets/SliceAerialPhoto.jpg](assets/SliceAerialPhoto.jpg)"
   ]
  },
  {
   "cell_type": "code",
   "execution_count": null,
   "id": "2b629d35-16b4-44d0-a3b3-71aef90d546c",
   "metadata": {},
   "outputs": [],
   "source": [
    "# import glob\n",
    "# from PIL import Image\n",
    "# from os.path import exists\n",
    "# import os\n",
    "\n",
    "# #path = 'data/DinosaurNationalMonument/Dinosaur National Monument Panorama.png'\n",
    "# path = 'data/GreenColoradoRivers.PNG'\n",
    "# folder = 'data/GreenColoradoRivers'\n",
    "# file_exists = exists(folder)\n",
    "# if not file_exists:\n",
    "#     os.mkdir(folder)\n",
    "#     os.mkdir(folder + '/224')\n",
    "# img = Image.open(path)\n",
    "# for x in range(img.size[0]//224):\n",
    "#     for y in range(img.size[1]//224):\n",
    "#         left = x * 224\n",
    "#         low = y * 224\n",
    "#         bbox = (left, low, left + 224, low + 224)\n",
    "#         working_slice = img.crop(bbox)\n",
    "#         filename = '{}/224/DNMx{:02d}y{:02d}.png'.format(folder, x, y)\n",
    "#         print(filename)\n",
    "#         working_slice.save(filename)\n",
    "#         # remove partial images\n",
    "#         r, g, b = working_slice.convert('RGB').split()\n",
    "#         if g.histogram()[0] + r.histogram()[0] + b.histogram()[0] > 223*3:\n",
    "#             print(fn,\" remove: has black stripe\")\n",
    "#             os.remove(fn, dir_fd=None)\n",
    "#         working_slice.close()"
   ]
  },
  {
   "cell_type": "markdown",
   "id": "1465f22b-fa67-4c67-b5f4-f839d45697f7",
   "metadata": {},
   "source": [
    "If you have any issues or want to contribute, please contact our authors:\n",
    "Intel oneAPI Solution Architect\n",
    "- Chesebrough, Bob [bob.chesebrough (at) intel.com]\n"
   ]
  },
  {
   "cell_type": "code",
   "execution_count": null,
   "id": "e45a2802-46a5-4532-8d4f-3189d58da8c8",
   "metadata": {},
   "outputs": [],
   "source": [
    "import glob\n",
    "from PIL import Image\n",
    "from os.path import exists\n",
    "import os\n",
    "\n",
    "#path = 'data/DinosaurNationalMonument/Dinosaur National Monument Panorama.png'\n",
    "path = 'data/GreenColoradoRivers.PNG'\n",
    "folder = 'data/GreenColoradoRivers'\n",
    "file_exists = exists(folder)\n",
    "step = 150 # need to less than 224\n",
    "\n",
    "if not file_exists:\n",
    "    os.mkdir(folder)\n",
    "    os.mkdir(folder + '/224')\n",
    "    \n",
    "img = Image.open(path)\n",
    "x_step, y_step = (img.width - (224 - step)) // step, (img.height - (224 - step)) // step\n",
    "\n",
    "for x in range(x_step):\n",
    "    for y in range(y_step):\n",
    "        left = x * step\n",
    "        low = y * step\n",
    "        bbox = (left, low, left + 224, low + 224)\n",
    "        working_slice = img.crop(bbox)\n",
    "        filename = '{}/224/DNMx{:02d}y{:02d}.png'.format(folder, x, y)\n",
    "        working_slice.save(filename)\n",
    "        # remove partial images\n",
    "        r, g, b = working_slice.convert('RGB').split()\n",
    "        if g.histogram()[0] + r.histogram()[0] + b.histogram()[0] > 223*3:\n",
    "            print(fn,\" remove: has black stripe\")\n",
    "            os.remove(fn, dir_fd=None)\n",
    "        working_slice.close()"
   ]
  },
  {
   "cell_type": "code",
   "execution_count": null,
   "id": "d7df3a98-8d9d-43ac-bb1d-005420d55aab",
   "metadata": {},
   "outputs": [],
   "source": [
    "print(f'x_step : {x_step}, y_step : {y_step}')\n",
    "print(f'width : {img.width}, height : {img.height}')"
   ]
  },
  {
   "cell_type": "code",
   "execution_count": null,
   "id": "c1f12693-5da0-4b32-b34c-9a8b1ee85580",
   "metadata": {},
   "outputs": [],
   "source": []
  }
 ],
 "metadata": {
  "kernelspec": {
   "display_name": "openvino_env1",
   "language": "python",
   "name": "openvino_env1"
  },
  "language_info": {
   "codemirror_mode": {
    "name": "ipython",
    "version": 3
   },
   "file_extension": ".py",
   "mimetype": "text/x-python",
   "name": "python",
   "nbconvert_exporter": "python",
   "pygments_lexer": "ipython3",
   "version": "3.8.13"
  }
 },
 "nbformat": 4,
 "nbformat_minor": 5
}
